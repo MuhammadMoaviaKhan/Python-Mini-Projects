{
  "nbformat": 4,
  "nbformat_minor": 0,
  "metadata": {
    "colab": {
      "provenance": [],
      "authorship_tag": "ABX9TyNdfPipMzplduTFy1qwt3Dj",
      "include_colab_link": true
    },
    "kernelspec": {
      "name": "python3",
      "display_name": "Python 3"
    },
    "language_info": {
      "name": "python"
    }
  },
  "cells": [
    {
      "cell_type": "markdown",
      "metadata": {
        "id": "view-in-github",
        "colab_type": "text"
      },
      "source": [
        "<a href=\"https://colab.research.google.com/github/MuhammadMoaviaKhan/Python-Mini-Projects/blob/main/Virtual_Garden.ipynb\" target=\"_parent\"><img src=\"https://colab.research.google.com/assets/colab-badge.svg\" alt=\"Open In Colab\"/></a>"
      ]
    },
    {
      "cell_type": "code",
      "source": [
        "import random"
      ],
      "metadata": {
        "id": "59gROJkmBVDr"
      },
      "execution_count": 1,
      "outputs": []
    },
    {
      "cell_type": "code",
      "execution_count": 2,
      "metadata": {
        "id": "XvfRYhY-mFQJ"
      },
      "outputs": [],
      "source": [
        "class Plant:\n",
        "  def __init__(self, name, harvest_yeild):\n",
        "    self.name = name\n",
        "    self.harvest_yeild = harvest_yeild\n",
        "    self.stages = ['seed', 'sprout', 'mature', 'flower', 'fruit', 'harvest ready!']\n",
        "    self.stage_index = 0\n",
        "    self.current_stage = self.stages[self.stage_index]\n",
        "    self.harvest_ready = False\n",
        "\n",
        "  def growth(self):\n",
        "    if self.stage_index < len(self.stages) - 1 and  self.stage_index != len(self.stages) - 1:\n",
        "      self.stage_index += 1\n",
        "      self.current_stage = self.stages[self.stage_index]\n",
        "      # print(self.current_stage)\n",
        "      if self.stage_index == len(self.stages) - 1:\n",
        "        self.harvest_ready = True\n",
        "    elif self.stage_index == len(self.stages) - 1:\n",
        "      self.harvest_ready = True\n",
        "      # print(f\"{self.name} is ready for harvesting\")\n",
        "\n",
        "  def harvest(self):\n",
        "    if self.harvest_ready:\n",
        "      print(f'Yeilds of {self.name} is {self.harvest_yeild}.')\n",
        "      self.harvest_ready = False\n",
        "    else:\n",
        "      print(f\"{self.name} is not harvestable yet!\")"
      ]
    },
    {
      "cell_type": "code",
      "source": [
        "class Tomato(Plant):\n",
        "  def __init__(self):\n",
        "    self.number = random.randint(8, 12)\n",
        "    super().__init__('Tomato', self.number)\n",
        "\n",
        "class Potato(Plant):\n",
        "  def __init__(self):\n",
        "    self.number = random.randint(1, 2)\n",
        "    super().__init__('Potato', self.number)\n",
        "    self.stages = ['seed', 'sprout', 'mature', 'harvest ready!']\n",
        "\n",
        "class Carrot(Plant):\n",
        "  def __init__(self):\n",
        "    super().__init__('Carrot', 1)\n",
        "    self.stages = ['seed', 'sprout', 'mature', 'harvest ready!']\n",
        "\n",
        "class Lamon(Plant):\n",
        "  def __init__(self):\n",
        "    self.number = random.randint(15, 25)\n",
        "    super().__init__('Lamon', self.number)"
      ],
      "metadata": {
        "id": "yLb-MYDZp7JV"
      },
      "execution_count": 3,
      "outputs": []
    },
    {
      "cell_type": "code",
      "source": [
        "lamon = Lamon()"
      ],
      "metadata": {
        "id": "YSDFMjaao3zQ"
      },
      "execution_count": 4,
      "outputs": []
    },
    {
      "cell_type": "code",
      "source": [
        "lamon.harvest_yeild"
      ],
      "metadata": {
        "colab": {
          "base_uri": "https://localhost:8080/"
        },
        "id": "xq7GxVRno3xR",
        "outputId": "fc45a7ce-454d-4c2a-c8e4-23f61bb4fab6"
      },
      "execution_count": 5,
      "outputs": [
        {
          "output_type": "execute_result",
          "data": {
            "text/plain": [
              "15"
            ]
          },
          "metadata": {},
          "execution_count": 5
        }
      ]
    },
    {
      "cell_type": "code",
      "source": [
        "def select_seed(item):\n",
        "\n",
        "  if type(item) == dict:\n",
        "    item_list = list(item.keys())\n",
        "\n",
        "  elif type(item) == list:\n",
        "    item_list = item\n",
        "\n",
        "  for i in range(len(item_list)):\n",
        "    try:\n",
        "      new_word = item_list[i].name\n",
        "    except:\n",
        "      new_word = item_list[i]\n",
        "    print(f'{i+1}. {new_word}')\n",
        "  print()\n",
        "  while True:\n",
        "    get_item = input('Enter seed number: ')\n",
        "    try:\n",
        "      get_item = int(get_item)\n",
        "      if 0 < get_item <= len(item_list):\n",
        "        return item_list[get_item - 1]\n",
        "      else:\n",
        "        print('Invalid Input')\n",
        "    except:\n",
        "      print('Invalid Input')"
      ],
      "metadata": {
        "id": "oXovR-UzFNzf"
      },
      "execution_count": 6,
      "outputs": []
    },
    {
      "cell_type": "code",
      "source": [
        "items = ['Tomato', 'Potato', 'Carrot', 'Lamon']"
      ],
      "metadata": {
        "id": "6TUl0lJWZdYS"
      },
      "execution_count": 7,
      "outputs": []
    },
    {
      "cell_type": "code",
      "source": [
        "inventory_harvested = {}"
      ],
      "metadata": {
        "id": "l_PGXjMcOsOF"
      },
      "execution_count": 8,
      "outputs": []
    },
    {
      "cell_type": "code",
      "source": [
        "class Gardener:\n",
        "  plant_dict = {\n",
        "      'Tomato' : Tomato,\n",
        "      'Potato' : Potato,\n",
        "      'Carrot' : Carrot,\n",
        "      'Lamon' : Lamon\n",
        "  }\n",
        "  def __init__(self, name):\n",
        "    self.name = name\n",
        "    self.inventory = {}\n",
        "    self.planted_plant = []\n",
        "\n",
        "  def get_seed(self):\n",
        "    self.seed = random.choice(items)\n",
        "\n",
        "    if self.seed not in self.inventory:\n",
        "      self.inventory[self.seed] = 1\n",
        "    else:\n",
        "      self.inventory[self.seed] += 1\n",
        "\n",
        "    print(f'{self.name} has found the seed of {self.seed}')\n",
        "\n",
        "  def plant(self):\n",
        "    selected_plant = select_seed(self.inventory)\n",
        "\n",
        "    if selected_plant in self.inventory and self.inventory[selected_plant] > 0:\n",
        "      self.inventory[selected_plant] -= 1\n",
        "      if self.inventory[selected_plant] == 0:\n",
        "        del self.inventory[selected_plant]\n",
        "      new_plant = self.plant_dict[selected_plant]()\n",
        "      self.planted_plant.append(new_plant)\n",
        "      print(f'{self.name} has planted the {selected_plant} plant')\n",
        "\n",
        "    else:\n",
        "      print(f'{self.name} does not have {selected_plant} seed')\n",
        "\n",
        "  def tend(self):\n",
        "    for tending in self.planted_plant:\n",
        "      if not tending.harvest_ready:\n",
        "        tending.growth()\n",
        "        print(f'{tending.name} is on {tending.current_stage} stage!')\n",
        "      else:\n",
        "         print(f'{tending.name} is ready for harvesting! ')\n",
        "\n",
        "  def harvesting(self):\n",
        "    for_harvest = select_seed(self.planted_plant)\n",
        "\n",
        "    if for_harvest.harvest_ready:\n",
        "      if for_harvest in inventory_harvested:\n",
        "        inventory_harvested[for_harvest.name] += for_harvest.harvest_yeild\n",
        "        self.planted_plant.remove(for_harvest)\n",
        "        print(f\"{for_harvest.name} is harvested in inventory_harvested\")\n",
        "      else:\n",
        "        inventory_harvested[for_harvest.name] = for_harvest.harvest_yeild\n",
        "        self.planted_plant.remove(for_harvest)\n",
        "        print(f\"{for_harvest.name} has been harvested in inventory_harvested\")\n",
        "    else:\n",
        "      print(f\"{for_harvest.name} is not harvestabe!\")\n"
      ],
      "metadata": {
        "id": "O7zZGcQOF8wA"
      },
      "execution_count": 9,
      "outputs": []
    },
    {
      "cell_type": "code",
      "source": [
        "print('***Welcome To Our Garden***\\n')\n",
        "commands = {\n",
        "     'Commands' : {\n",
        "         1 : 'Seed',\n",
        "         2 : 'Plant',\n",
        "         3 : 'Tend',\n",
        "         4 : 'Harvest',\n",
        "         5 : 'Check Inventory',\n",
        "         6 : 'Check Harvested Inventory',\n",
        "         7 : 'Quit'\n",
        "     }\n",
        "  }\n",
        "name = input('Enter your name: ')\n",
        "print('*** Commands ***\\n')\n",
        "name = Gardener(name)\n",
        "\n",
        "for i in commands['Commands']:\n",
        "    print(f'({i}). {commands[\"Commands\"][i]}')\n",
        "\n",
        "while True:\n",
        "\n",
        "  command_input = input('Select desired option: ').lower()\n",
        "  print()\n",
        "  try:\n",
        "    if command_input == 'seed' or command_input == '1':\n",
        "      print()\n",
        "      name.get_seed()\n",
        "    elif command_input == 'plant' or command_input == '2':\n",
        "      print()\n",
        "      name.plant()\n",
        "    elif command_input == 'tend' or command_input == '3':\n",
        "      print()\n",
        "      name.tend()\n",
        "    elif command_input == 'harvest' or command_input == '4':\n",
        "      print()\n",
        "      name.harvesting()\n",
        "      print()\n",
        "      name.harvest()\n",
        "    elif command_input == 'inventory' or command_input == '5':\n",
        "      print()\n",
        "      print(name.inventory)\n",
        "    elif command_input == 'harvested inventory' or command_input == '6':\n",
        "      print()\n",
        "      print(inventory_harvested)\n",
        "    elif command_input == 'quit' or command_input == '7':\n",
        "      print('Thank you for your interest. Come again. Good Bye! ')\n",
        "      break\n",
        "  except:\n",
        "    continue\n"
      ],
      "metadata": {
        "colab": {
          "base_uri": "https://localhost:8080/"
        },
        "id": "j03nHf0ZddXD",
        "outputId": "2f057188-6475-47e1-da69-7dc4bade061f"
      },
      "execution_count": 11,
      "outputs": [
        {
          "output_type": "stream",
          "name": "stdout",
          "text": [
            "***Welcome To Our Garden***\n",
            "\n",
            "Enter your name: Moavia Khan\n",
            "*** Commands ***\n",
            "\n",
            "(1). Seed\n",
            "(2). Plant\n",
            "(3). Tend\n",
            "(4). Harvest\n",
            "(5). Check Inventory\n",
            "(6). Check Harvested Inventory\n",
            "(7). Quit\n",
            "Select desired option: 1\n",
            "\n",
            "\n",
            "Moavia Khan has found the seed of Tomato\n",
            "Select desired option: 1\n",
            "\n",
            "\n",
            "Moavia Khan has found the seed of Tomato\n",
            "Select desired option: 1\n",
            "\n",
            "\n",
            "Moavia Khan has found the seed of Lamon\n",
            "Select desired option: 1\n",
            "\n",
            "\n",
            "Moavia Khan has found the seed of Tomato\n",
            "Select desired option: 1\n",
            "\n",
            "\n",
            "Moavia Khan has found the seed of Potato\n",
            "Select desired option: 5\n",
            "\n",
            "\n",
            "{'Tomato': 3, 'Lamon': 1, 'Potato': 1}\n",
            "Select desired option: 2\n",
            "\n",
            "\n",
            "1. Tomato\n",
            "2. Lamon\n",
            "3. Potato\n",
            "\n",
            "Enter seed number: 1\n",
            "Moavia Khan has planted the Tomato plant\n",
            "Select desired option: 2\n",
            "\n",
            "\n",
            "1. Tomato\n",
            "2. Lamon\n",
            "3. Potato\n",
            "\n",
            "Enter seed number: 3\n",
            "Moavia Khan has planted the Potato plant\n",
            "Select desired option: 3\n",
            "\n",
            "\n",
            "Tomato is on sprout stage!\n",
            "Potato is on sprout stage!\n",
            "Select desired option: 3\n",
            "\n",
            "\n",
            "Tomato is on mature stage!\n",
            "Potato is on mature stage!\n",
            "Select desired option: 3\n",
            "\n",
            "\n",
            "Tomato is on flower stage!\n",
            "Potato is on harvest ready! stage!\n",
            "Select desired option: 4\n",
            "\n",
            "\n",
            "1. Tomato\n",
            "2. Potato\n",
            "\n",
            "Enter seed number: 1\n",
            "Tomato is not harvestabe!\n",
            "\n",
            "Select desired option: 4\n",
            "\n",
            "\n",
            "1. Tomato\n",
            "2. Potato\n",
            "\n",
            "Enter seed number: 2\n",
            "Potato has been harvested in inventory_harvested\n",
            "\n",
            "Select desired option: 2\n",
            "\n",
            "\n",
            "1. Tomato\n",
            "2. Lamon\n",
            "\n",
            "Enter seed number: 2\n",
            "Moavia Khan has planted the Lamon plant\n",
            "Select desired option: 3\n",
            "\n",
            "\n",
            "Tomato is on fruit stage!\n",
            "Lamon is on sprout stage!\n",
            "Select desired option: 3\n",
            "\n",
            "\n",
            "Tomato is on harvest ready! stage!\n",
            "Lamon is on mature stage!\n",
            "Select desired option: 3\n",
            "\n",
            "\n",
            "Tomato is ready for harvesting! \n",
            "Lamon is on flower stage!\n",
            "Select desired option: 3\n",
            "\n",
            "\n",
            "Tomato is ready for harvesting! \n",
            "Lamon is on fruit stage!\n",
            "Select desired option: 4\n",
            "\n",
            "\n",
            "1. Tomato\n",
            "2. Lamon\n",
            "\n",
            "Enter seed number: 1\n",
            "Tomato has been harvested in inventory_harvested\n",
            "\n",
            "Select desired option: 3\n",
            "\n",
            "\n",
            "Lamon is on harvest ready! stage!\n",
            "Select desired option: 3\n",
            "\n",
            "\n",
            "Lamon is ready for harvesting! \n",
            "Select desired option: 3\n",
            "\n",
            "\n",
            "Lamon is ready for harvesting! \n",
            "Select desired option: 4\n",
            "\n",
            "\n",
            "1. Lamon\n",
            "\n",
            "Enter seed number: 2\n",
            "Invalid Input\n",
            "Enter seed number: 1\n",
            "Lamon has been harvested in inventory_harvested\n",
            "\n",
            "Select desired option: 5\n",
            "\n",
            "\n",
            "{'Tomato': 2}\n",
            "Select desired option: 6\n",
            "\n",
            "\n",
            "{'Potato': 2, 'Tomato': 10, 'Lamon': 25}\n",
            "Select desired option: 2\n",
            "\n",
            "\n",
            "1. Tomato\n",
            "\n",
            "Enter seed number: 1\n",
            "Moavia Khan has planted the Tomato plant\n",
            "Select desired option: 3\n",
            "\n",
            "\n",
            "Tomato is on sprout stage!\n",
            "Select desired option: 3\n",
            "\n",
            "\n",
            "Tomato is on mature stage!\n",
            "Select desired option: 3\n",
            "\n",
            "\n",
            "Tomato is on flower stage!\n",
            "Select desired option: 3\n",
            "\n",
            "\n",
            "Tomato is on fruit stage!\n",
            "Select desired option: 3\n",
            "\n",
            "\n",
            "Tomato is on harvest ready! stage!\n",
            "Select desired option: 2\n",
            "\n",
            "\n",
            "1. Tomato\n",
            "\n",
            "Enter seed number: 1\n",
            "Moavia Khan has planted the Tomato plant\n",
            "Select desired option: 4\n",
            "\n",
            "\n",
            "1. Tomato\n",
            "2. Tomato\n",
            "\n",
            "Enter seed number: 1\n",
            "Tomato has been harvested in inventory_harvested\n",
            "\n",
            "Select desired option: 6\n",
            "\n",
            "\n",
            "{'Potato': 2, 'Tomato': 11, 'Lamon': 25}\n",
            "Select desired option: 7\n",
            "\n",
            "Thank you for your interest. Come again. Good Bye! \n"
          ]
        }
      ]
    },
    {
      "cell_type": "code",
      "source": [
        "31name.inventory"
      ],
      "metadata": {
        "colab": {
          "base_uri": "https://localhost:8080/"
        },
        "id": "ICipOgYGgC2I",
        "outputId": "1c06a9b8-6d49-4bd2-f89a-26b2db789a37"
      },
      "execution_count": null,
      "outputs": [
        {
          "output_type": "execute_result",
          "data": {
            "text/plain": [
              "{'Lamon': 3}"
            ]
          },
          "metadata": {},
          "execution_count": 328
        }
      ]
    },
    {
      "cell_type": "code",
      "source": [],
      "metadata": {
        "id": "S8y-OlWYlRVu"
      },
      "execution_count": null,
      "outputs": []
    }
  ]
}