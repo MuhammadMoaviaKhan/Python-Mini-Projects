{
  "nbformat": 4,
  "nbformat_minor": 0,
  "metadata": {
    "colab": {
      "provenance": [],
      "authorship_tag": "ABX9TyNlfbbJ1kD8dYzrgLaJ9qPF",
      "include_colab_link": true
    },
    "kernelspec": {
      "name": "python3",
      "display_name": "Python 3"
    },
    "language_info": {
      "name": "python"
    }
  },
  "cells": [
    {
      "cell_type": "markdown",
      "metadata": {
        "id": "view-in-github",
        "colab_type": "text"
      },
      "source": [
        "<a href=\"https://colab.research.google.com/github/MuhammadMoaviaKhan/Python-Mini-Projects/blob/main/TODO_LIST.ipynb\" target=\"_parent\"><img src=\"https://colab.research.google.com/assets/colab-badge.svg\" alt=\"Open In Colab\"/></a>"
      ]
    },
    {
      "cell_type": "code",
      "source": [
        "to_do = []"
      ],
      "metadata": {
        "id": "ENc7cvhB82ae"
      },
      "execution_count": 1,
      "outputs": []
    },
    {
      "cell_type": "code",
      "source": [
        "while True:\n",
        "  print('\\nMenu')\n",
        "  print(\"1. Add Task\")\n",
        "  print(\"2. Remove Task\")\n",
        "  print(\"3. View Tasks\")\n",
        "  print(\"4. Exit\")\n",
        "  print('\\n')\n",
        "  operation = input('Enter your choice (1 - 4) ')\n",
        "\n",
        "  if operation == '1':\n",
        "    tasks = input('Enter your task ')\n",
        "    to_do.append(tasks)\n",
        "    print(f'Your task \"{tasks}\" added successfully.')\n",
        "\n",
        "  elif operation == '2':\n",
        "    for index, task in enumerate(to_do, start = 1):\n",
        "      print(f'{index}. {task}')\n",
        "    while True:\n",
        "      tasks = int(input('Enter task number which one you want to delete '))\n",
        "      print('Just write y or n ')\n",
        "      choose = input(f'You want to remove ({to_do[tasks]}) this task').lower()\n",
        "      if choose == 'y':\n",
        "        print(f'Your task ({to_do[tasks]}) remove successfully.')\n",
        "        to_do.pop(tasks-1)\n",
        "        break\n",
        "      elif choose == 'n':\n",
        "        continue\n",
        "      else:\n",
        "        print('Enter valid answer ')\n",
        "\n",
        "  elif operation == '3':\n",
        "    for index, task in enumerate(to_do, start = 1):\n",
        "      print(f'{index}. {task}')\n",
        "\n",
        "  elif operation == '4':\n",
        "    for index, task in enumerate(to_do, start = 1):\n",
        "      print(f'{index}. {task}')\n",
        "    break\n",
        "  else:\n",
        "    print('Invalid choice. Please enter the number from 1 - 4')"
      ],
      "metadata": {
        "colab": {
          "base_uri": "https://localhost:8080/"
        },
        "id": "47i9TNm0e76S",
        "outputId": "cc2aee8b-91fe-47ef-b885-33675a4b852f"
      },
      "execution_count": 3,
      "outputs": [
        {
          "output_type": "stream",
          "name": "stdout",
          "text": [
            "\n",
            "Menu\n",
            "1. Add Task\n",
            "2. Remove Task\n",
            "3. View Tasks\n",
            "4. Exit\n",
            "\n",
            "\n",
            "Enter your choice (1 - 4) 1\n",
            "Enter your task Learning python for data science\n",
            "Your task \"Learning python for data science\" added successfully.\n",
            "\n",
            "Menu\n",
            "1. Add Task\n",
            "2. Remove Task\n",
            "3. View Tasks\n",
            "4. Exit\n",
            "\n",
            "\n",
            "Enter your choice (1 - 4) 1\n",
            "Enter your task Make mini project for practice\n",
            "Your task \"Make mini project for practice\" added successfully.\n",
            "\n",
            "Menu\n",
            "1. Add Task\n",
            "2. Remove Task\n",
            "3. View Tasks\n",
            "4. Exit\n",
            "\n",
            "\n",
            "Enter your choice (1 - 4) 3\n",
            "1. This is first task \n",
            "2. Learning python for data science\n",
            "3. Make mini project for practice\n",
            "\n",
            "Menu\n",
            "1. Add Task\n",
            "2. Remove Task\n",
            "3. View Tasks\n",
            "4. Exit\n",
            "\n",
            "\n",
            "Enter your choice (1 - 4) 2\n",
            "1. This is first task \n",
            "2. Learning python for data science\n",
            "3. Make mini project for practice\n",
            "Enter task number which one you want to delete 1\n",
            "Just write y or n \n",
            "You want to remove (Learning python for data science) this tasky\n",
            "Your task (Learning python for data science) remove successfully.\n",
            "\n",
            "Menu\n",
            "1. Add Task\n",
            "2. Remove Task\n",
            "3. View Tasks\n",
            "4. Exit\n",
            "\n",
            "\n",
            "Enter your choice (1 - 4) 3\n",
            "1. Learning python for data science\n",
            "2. Make mini project for practice\n",
            "\n",
            "Menu\n",
            "1. Add Task\n",
            "2. Remove Task\n",
            "3. View Tasks\n",
            "4. Exit\n",
            "\n",
            "\n",
            "Enter your choice (1 - 4) 4\n",
            "1. Learning python for data science\n",
            "2. Make mini project for practice\n"
          ]
        }
      ]
    },
    {
      "cell_type": "code",
      "source": [],
      "metadata": {
        "id": "MNYHb_dC8Qgz"
      },
      "execution_count": null,
      "outputs": []
    }
  ]
}