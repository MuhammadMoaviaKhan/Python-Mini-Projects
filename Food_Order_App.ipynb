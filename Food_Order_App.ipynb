{
  "nbformat": 4,
  "nbformat_minor": 0,
  "metadata": {
    "colab": {
      "provenance": [],
      "authorship_tag": "ABX9TyPvfN9ZQ5xPfWad6cgUL/3t",
      "include_colab_link": true
    },
    "kernelspec": {
      "name": "python3",
      "display_name": "Python 3"
    },
    "language_info": {
      "name": "python"
    }
  },
  "cells": [
    {
      "cell_type": "markdown",
      "metadata": {
        "id": "view-in-github",
        "colab_type": "text"
      },
      "source": [
        "<a href=\"https://colab.research.google.com/github/MuhammadMoaviaKhan/Python-Mini-Projects/blob/main/Food_Order_App.ipynb\" target=\"_parent\"><img src=\"https://colab.research.google.com/assets/colab-badge.svg\" alt=\"Open In Colab\"/></a>"
      ]
    },
    {
      "cell_type": "code",
      "execution_count": null,
      "metadata": {
        "id": "nZWyEdEx8pQV"
      },
      "outputs": [],
      "source": [
        "rest_name = \"Foodie's Retreat\"\n",
        "\n",
        "menu = {\n",
        "    \"SKU1\": {\"name\": \"Spaghetti Bolognese\", \"price\": 12.99},\n",
        "    \"SKU2\": {\"name\": \"Margherita Pizza\", \"price\": 10.99},\n",
        "    \"SKU3\": {\"name\": \"Caesar Salad\", \"price\": 8.99},\n",
        "    \"SKU4\": {\"name\": \"Grilled Chicken Sandwich\", \"price\": 9.99},\n",
        "    \"SKU5\": {\"name\": \"Beef Burger\", \"price\": 11.99},\n",
        "    \"SKU6\": {\"name\": \"Fish and Chips\", \"price\": 13.99},\n",
        "    \"SKU7\": {\"name\": \"Vegetable Stir-Fry\", \"price\": 10.49},\n",
        "    \"SKU8\": {\"name\": \"Chicken Tikka Masala\", \"price\": 14.49},\n",
        "    \"SKU9\": {\"name\": \"Sushi Platter\", \"price\": 17.99},\n",
        "    \"SKU10\": {\"name\": \"Pho Soup\", \"price\": 9.99},\n",
        "    \"SKU11\": {\"name\": \"Mushroom Risotto\", \"price\": 12.49},\n",
        "    \"SKU12\": {\"name\": \"BBQ Ribs\", \"price\": 15.99},\n",
        "    \"SKU13\": {\"name\": \"Eggplant Parmesan\", \"price\": 11.49},\n",
        "    \"SKU14\": {\"name\": \"Shrimp Scampi\", \"price\": 16.99},\n",
        "    \"SKU15\": {\"name\": \"Hawaiian Poke Bowl\", \"price\": 14.99},\n",
        "    \"SKU16\": {\"name\": \"Falafel Wrap\", \"price\": 8.49},\n",
        "    \"SKU17\": {\"name\": \"Chicken Caesar Wrap\", \"price\": 9.49},\n",
        "    \"SKU18\": {\"name\": \"Vegetarian Quiche\", \"price\": 7.99},\n",
        "    \"SKU19\": {\"name\": \"Beef Tacos\", \"price\": 10.99},\n",
        "    \"SKU20\": {\"name\": \"Chocolate Lava Cake\", \"price\": 6.99},\n",
        "}\n",
        "\n",
        "cart = {}\n",
        "\n",
        "option = {\n",
        "    '1' : 'Add item in the cart',\n",
        "    '2' : 'Remove item from the cart',\n",
        "    '3' : 'Modify item in the cart',\n",
        "    '4' : 'View cart & bill',\n",
        "    '5' : 'Cheackout',\n",
        "    '6' : 'Exit'\n",
        "}\n",
        "gst = 0.7"
      ]
    },
    {
      "cell_type": "code",
      "source": [
        "def action():\n",
        "  'For displaying actions'\n",
        "  for act in option:\n",
        "    print(f'({act}) {option[act]}')"
      ],
      "metadata": {
        "id": "gcLRZ1Qs-jgr"
      },
      "execution_count": null,
      "outputs": []
    },
    {
      "cell_type": "code",
      "source": [
        "action()"
      ],
      "metadata": {
        "colab": {
          "base_uri": "https://localhost:8080/"
        },
        "id": "KLMwPpgKAB41",
        "outputId": "6cbcb99a-61d2-48dc-c655-532da3528c99"
      },
      "execution_count": null,
      "outputs": [
        {
          "output_type": "stream",
          "name": "stdout",
          "text": [
            "(1) Add item in the cart\n",
            "(2) Remove item from the cart\n",
            "(3) Modify item in the cart\n",
            "(4) View cart & bill\n",
            "(5) Cheackout\n",
            "(6) Exit\n"
          ]
        }
      ]
    },
    {
      "cell_type": "code",
      "source": [
        "def display_menu():\n",
        "  'For displaying menu'\n",
        "  print(f'\\n*** Menu Cars of \"{rest_name}\" ***\\n')\n",
        "  for display in menu :\n",
        "    print(f'({display[3:]}) {menu[display][\"name\"]}  ${menu[display][\"price\"]}')"
      ],
      "metadata": {
        "id": "b4SF4SNxAKZc"
      },
      "execution_count": null,
      "outputs": []
    },
    {
      "cell_type": "code",
      "source": [
        "display_menu()"
      ],
      "metadata": {
        "id": "Pk3TyHPFBaYc",
        "colab": {
          "base_uri": "https://localhost:8080/"
        },
        "outputId": "e196fc94-0b87-4822-bab4-1e58befa22b3"
      },
      "execution_count": null,
      "outputs": [
        {
          "output_type": "stream",
          "name": "stdout",
          "text": [
            "\n",
            "*** Menu Cars of \"Foodie's Retreat\" ***\n",
            "\n",
            "(1) Spaghetti Bolognese  $12.99\n",
            "(2) Margherita Pizza  $10.99\n",
            "(3) Caesar Salad  $8.99\n",
            "(4) Grilled Chicken Sandwich  $9.99\n",
            "(5) Beef Burger  $11.99\n",
            "(6) Fish and Chips  $13.99\n",
            "(7) Vegetable Stir-Fry  $10.49\n",
            "(8) Chicken Tikka Masala  $14.49\n",
            "(9) Sushi Platter  $17.99\n",
            "(10) Pho Soup  $9.99\n"
          ]
        }
      ]
    },
    {
      "cell_type": "code",
      "source": [
        "def add_item(sku, qty = 1):\n",
        "  'For adding item in the cart'\n",
        "  if 'SKU'+sku in menu:\n",
        "    item = menu['SKU'+sku]\n",
        "    cart['SKU'+sku] = qty\n",
        "    print(f\"{item['name']} has been added in cart and quantity is {qty}\")\n",
        "  else:\n",
        "    print('Item is not exist in the menu')"
      ],
      "metadata": {
        "id": "oZNrDpGQBcDj"
      },
      "execution_count": null,
      "outputs": []
    },
    {
      "cell_type": "code",
      "source": [
        "'SKU4' in menu"
      ],
      "metadata": {
        "colab": {
          "base_uri": "https://localhost:8080/"
        },
        "id": "aILm_4_XXO_E",
        "outputId": "1ff68df5-1855-4ae4-d45c-71735fe9d3d5"
      },
      "execution_count": null,
      "outputs": [
        {
          "output_type": "execute_result",
          "data": {
            "text/plain": [
              "True"
            ]
          },
          "metadata": {},
          "execution_count": 333
        }
      ]
    },
    {
      "cell_type": "code",
      "source": [
        "add_item('3', 2)"
      ],
      "metadata": {
        "id": "zV7rT2FCDB5C",
        "colab": {
          "base_uri": "https://localhost:8080/"
        },
        "outputId": "42413a1d-8414-48c7-8bf7-9f8faf4eddd0"
      },
      "execution_count": null,
      "outputs": [
        {
          "output_type": "stream",
          "name": "stdout",
          "text": [
            "(1) Spaghetti Bolognese  $12.99\n",
            "(2) Margherita Pizza  $10.99\n",
            "(3) Caesar Salad  $8.99\n",
            "(4) Grilled Chicken Sandwich  $9.99\n",
            "(5) Beef Burger  $11.99\n",
            "(6) Fish and Chips  $13.99\n",
            "(7) Vegetable Stir-Fry  $10.49\n",
            "(8) Chicken Tikka Masala  $14.49\n",
            "(9) Sushi Platter  $17.99\n",
            "(10) Pho Soup  $9.99\n",
            "Caesar Salad has been added in cart and quantity is 2\n"
          ]
        }
      ]
    },
    {
      "cell_type": "code",
      "source": [
        "cart"
      ],
      "metadata": {
        "colab": {
          "base_uri": "https://localhost:8080/"
        },
        "id": "_4_cR7dHYrBi",
        "outputId": "c88e4588-198a-4993-aa6d-bdc9856b5d79"
      },
      "execution_count": null,
      "outputs": [
        {
          "output_type": "execute_result",
          "data": {
            "text/plain": [
              "{'SKU3': 2}"
            ]
          },
          "metadata": {},
          "execution_count": 125
        }
      ]
    },
    {
      "cell_type": "code",
      "source": [
        "def remove_item(sku):\n",
        "  if 'SKU'+sku in cart:\n",
        "    print(\"Item has been removed from the cart \")\n",
        "    cart.pop('SKU'+sku)\n",
        "  else:\n",
        "    print('Item is not exist in the cart')"
      ],
      "metadata": {
        "id": "Spo70e2bFpwv"
      },
      "execution_count": null,
      "outputs": []
    },
    {
      "cell_type": "code",
      "source": [
        "remove_item('3')"
      ],
      "metadata": {
        "colab": {
          "base_uri": "https://localhost:8080/"
        },
        "id": "zDp7jCUZUr7v",
        "outputId": "b42c2b67-2bd7-4b28-a5c4-d6d421150b81"
      },
      "execution_count": null,
      "outputs": [
        {
          "output_type": "stream",
          "name": "stdout",
          "text": [
            "Item is not exist in the cart\n"
          ]
        }
      ]
    },
    {
      "cell_type": "code",
      "source": [
        "def modify_item(sku, qty = 1):\n",
        "  if 'SKU'+sku in menu:\n",
        "    if 'SKU'+sku not in cart:\n",
        "      item = menu['SKU'+sku]\n",
        "      cart['SKU'+sku] = qty\n",
        "      print('Cart has been modified successfully ')\n",
        "    else:\n",
        "      cart['SKU'+sku] = cart['SKU'+sku] + qty\n",
        "      print('Item added has been successfully ')\n",
        "  else:\n",
        "    print('Item is not exist in the cart')"
      ],
      "metadata": {
        "id": "je5tcSVta6RV"
      },
      "execution_count": null,
      "outputs": []
    },
    {
      "cell_type": "code",
      "source": [
        "modify_item('9', 5)"
      ],
      "metadata": {
        "colab": {
          "base_uri": "https://localhost:8080/"
        },
        "id": "-O6SFFhhgV5a",
        "outputId": "d6b8b293-e3b4-4ee8-ddae-37f4c951d853"
      },
      "execution_count": null,
      "outputs": [
        {
          "output_type": "stream",
          "name": "stdout",
          "text": [
            "Cart has been modified successfully \n"
          ]
        }
      ]
    },
    {
      "cell_type": "code",
      "source": [
        "cart"
      ],
      "metadata": {
        "colab": {
          "base_uri": "https://localhost:8080/"
        },
        "id": "R-7WETjTgipO",
        "outputId": "ea068e6f-85e5-4c65-f5d2-b50684bb6e43"
      },
      "execution_count": null,
      "outputs": [
        {
          "output_type": "execute_result",
          "data": {
            "text/plain": [
              "{'SKU3': 2, 'SKU6': 3, 'SKU9': 5}"
            ]
          },
          "metadata": {},
          "execution_count": 176
        }
      ]
    },
    {
      "cell_type": "code",
      "source": [
        "def view_cart():\n",
        "  total = 0\n",
        "  i = 1\n",
        "  for view in cart:\n",
        "    total = total + menu[view]['price'] * cart[view]\n",
        "    print(f\"({i})   {cart[view]}  X  {menu[view]['name']}\")\n",
        "    i += 1\n",
        "  tax = total * gst\n",
        "  total_bill = tax + total\n",
        "  print(f'\\nTotal Bill: {round(total_bill, 2)}\\n\\n')"
      ],
      "metadata": {
        "id": "FKv0qeRCgqw-"
      },
      "execution_count": null,
      "outputs": []
    },
    {
      "cell_type": "code",
      "source": [
        "view_cart()"
      ],
      "metadata": {
        "colab": {
          "base_uri": "https://localhost:8080/"
        },
        "id": "4JKYTxx_mXNY",
        "outputId": "fdec6312-7ae2-4f34-e827-e5a6a3082927"
      },
      "execution_count": null,
      "outputs": [
        {
          "output_type": "stream",
          "name": "stdout",
          "text": [
            "(1)   2  X  Beef Burger\n",
            "(2)   4  X  Margherita Pizza\n",
            "\n",
            "Total Bill: 115.5\n",
            "\n",
            "\n"
          ]
        }
      ]
    },
    {
      "cell_type": "code",
      "source": [
        "cart_for_rem_fun = {}"
      ],
      "metadata": {
        "id": "Rv9wrd4DQMf7"
      },
      "execution_count": null,
      "outputs": []
    },
    {
      "cell_type": "code",
      "source": [
        "def view_cart_2():\n",
        "  for view in cart:\n",
        "    cart_for_rem_fun.update(view = menu[view]['name'])\n",
        "    print(f\"({view[3:]})    {menu[view]['name']}\")"
      ],
      "metadata": {
        "id": "e-Pgu32cPwgE"
      },
      "execution_count": null,
      "outputs": []
    },
    {
      "cell_type": "code",
      "source": [
        "view_cart_2()"
      ],
      "metadata": {
        "id": "Sdn6NmXhQtwM"
      },
      "execution_count": null,
      "outputs": []
    },
    {
      "cell_type": "code",
      "source": [
        "def check_out():\n",
        "  print(\"\\n*** Thanks For Oreder Us ***\\n\")\n",
        "  view_cart()"
      ],
      "metadata": {
        "id": "QgqX3TyONOpc"
      },
      "execution_count": null,
      "outputs": []
    },
    {
      "cell_type": "code",
      "source": [
        "check_out()"
      ],
      "metadata": {
        "colab": {
          "base_uri": "https://localhost:8080/"
        },
        "id": "jifrpmhxORyd",
        "outputId": "7d3fc1e7-7242-4ac8-f465-3bad1a016c91"
      },
      "execution_count": null,
      "outputs": [
        {
          "output_type": "stream",
          "name": "stdout",
          "text": [
            "\n",
            "*** Thanks For Oreder Us ***\n",
            "\n",
            "(1)   2  X  Beef Burger\n",
            "(2)   3  X  Margherita Pizza\n",
            "\n",
            "Total Bill: 96.81\n"
          ]
        }
      ]
    },
    {
      "cell_type": "code",
      "source": [
        "def app():\n",
        "\n",
        "  print(f'\\n*** WELCOME To \"{rest_name}\" ***\\n')\n",
        "  ordering = True\n",
        "\n",
        "  while ordering:\n",
        "    action()\n",
        "    print('\\n')\n",
        "    action_input = int(input('Enter your desire option: '))\n",
        "\n",
        "    if action_input == 1:\n",
        "      print('\\n')\n",
        "      display_menu()\n",
        "      print('\\n')\n",
        "      choose_item = input('Select the meal number: ')\n",
        "      if 'SKU'+choose_item in menu:\n",
        "        qauntitty = int(input('Enter the quantity of your meal: '))\n",
        "        print('\\n')\n",
        "        add_item(choose_item, qauntitty)\n",
        "      else:\n",
        "        print('Item is\\'t exist in the menu ')\n",
        "\n",
        "    elif action_input == 2:\n",
        "      print('\\n')\n",
        "      view_cart_2()\n",
        "      print('\\n')\n",
        "      rem_item = input('Enter the meal number which one you wanna remove from the cart: ')\n",
        "      if 'SKU'+rem_item in cart:\n",
        "        cart.pop('SKU'+rem_item)\n",
        "        print(f\"\\n{menu['SKU'+rem_item]['name']} has been removed from the cart \")\n",
        "        print('\\n')\n",
        "      else:\n",
        "        print('\\nitem not found in cart')\n",
        "\n",
        "    elif action_input == 3:\n",
        "      print('\\n')\n",
        "      view_cart_2()\n",
        "      print('\\n')\n",
        "      mod_item = input('Enter the meal number which one you wanna add in cart: ')\n",
        "      add_num_item = int(input('Enter the quantity of the modified meal: '))\n",
        "      modify_item(mod_item, add_num_item)\n",
        "      print('\\n')\n",
        "      # if 'SKU'+mod_item in cart:\n",
        "      #   add_num_item = int(input('Enter the quantity of the modified meal: '))\n",
        "      #   cart['SKU'+mod_item] += add_num_item\n",
        "      # else:\n",
        "      #   add_num_item = int(input('Enter the quantity of the modified meal: '))\n",
        "      #   cart['SKU'+mod_item] = add_num_item\n",
        "\n",
        "    elif action_input == 4:\n",
        "      view_cart()\n",
        "\n",
        "    elif action_input == 5:\n",
        "      check_out()\n",
        "      break\n",
        "\n",
        "    elif action_input == 6:\n",
        "      print('\\nThnaks For Visit Come Again')\n",
        "      break\n",
        "\n",
        "    else:\n",
        "      print('Option is not exist')"
      ],
      "metadata": {
        "id": "tU_ffLEemZBh"
      },
      "execution_count": null,
      "outputs": []
    },
    {
      "cell_type": "code",
      "source": [
        "  app()"
      ],
      "metadata": {
        "id": "3FL1WZ4tqeRd"
      },
      "execution_count": null,
      "outputs": []
    },
    {
      "cell_type": "code",
      "source": [
        "cart"
      ],
      "metadata": {
        "colab": {
          "base_uri": "https://localhost:8080/"
        },
        "id": "3Nm3JjrOqfIF",
        "outputId": "aa19377a-11c2-4f6e-9643-69f81b7480ae"
      },
      "execution_count": null,
      "outputs": [
        {
          "output_type": "execute_result",
          "data": {
            "text/plain": [
              "{'SKU2': 5, 'SKU5': 13, 'SKU7': 5, 'SKU3': 2}"
            ]
          },
          "metadata": {},
          "execution_count": 269
        }
      ]
    },
    {
      "cell_type": "code",
      "source": [
        "print(len(cart))"
      ],
      "metadata": {
        "colab": {
          "base_uri": "https://localhost:8080/"
        },
        "id": "PxEEPvPUt1El",
        "outputId": "c3e8d517-d361-44fd-e9f1-60679cea4744"
      },
      "execution_count": null,
      "outputs": [
        {
          "output_type": "stream",
          "name": "stdout",
          "text": [
            "3\n"
          ]
        }
      ]
    },
    {
      "cell_type": "code",
      "source": [],
      "metadata": {
        "id": "_xjDVv_Ww0La"
      },
      "execution_count": null,
      "outputs": []
    }
  ]
}