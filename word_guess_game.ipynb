{
  "cells": [
    {
      "cell_type": "markdown",
      "metadata": {
        "id": "view-in-github",
        "colab_type": "text"
      },
      "source": [
        "<a href=\"https://colab.research.google.com/github/MuhammadMoaviaKhan/Python-Mini-Projects/blob/main/word_guess_game.ipynb\" target=\"_parent\"><img src=\"https://colab.research.google.com/assets/colab-badge.svg\" alt=\"Open In Colab\"/></a>"
      ]
    },
    {
      "cell_type": "markdown",
      "metadata": {
        "id": "QuMFwn-ocPz5"
      },
      "source": [
        "# WORD GUESSING GAME"
      ]
    },
    {
      "cell_type": "code",
      "execution_count": 1,
      "metadata": {
        "id": "Lkt4Ppipb5Q2"
      },
      "outputs": [],
      "source": [
        "words = ['Apple','Tiger','Dance','Chair','River','Plant','Smile','Glass','Happy','Cloud','Snake','Beach','Night','Horse','Lemon','Watch','Brain','Music','Amber','Earth']"
      ]
    },
    {
      "cell_type": "code",
      "execution_count": 2,
      "metadata": {
        "id": "1T8Bg70ohK1j"
      },
      "outputs": [],
      "source": [
        "for i in range(len(words)):\n",
        "  words[i] = words[i].lower()"
      ]
    },
    {
      "cell_type": "code",
      "execution_count": null,
      "metadata": {
        "id": "xWcVSVefhnnk"
      },
      "outputs": [],
      "source": [
        "words"
      ]
    },
    {
      "cell_type": "code",
      "execution_count": 4,
      "metadata": {
        "id": "xoQlU3Lndkr3"
      },
      "outputs": [],
      "source": [
        "import random"
      ]
    },
    {
      "cell_type": "code",
      "execution_count": 7,
      "metadata": {
        "id": "RJAOu6OSdpkn"
      },
      "outputs": [],
      "source": [
        "guess_word =  random.choice(words)"
      ]
    },
    {
      "cell_type": "code",
      "execution_count": 8,
      "metadata": {
        "colab": {
          "base_uri": "https://localhost:8080/"
        },
        "id": "BwRpVyXtdu33",
        "outputId": "6293bcfd-56b8-4dd4-d7b3-6fe6484f7840"
      },
      "outputs": [
        {
          "output_type": "stream",
          "name": "stdout",
          "text": [
            "Guess the 5 letter word: smile\n",
            "smile is not the guess number\n",
            "You guess 1 time and maximum chance is: 5\n",
            "Exist letters: ['m', 'l', 'e']\n",
            "incorrect letters: ['s', 'i']\n",
            "Correct position: []\n",
            "\n",
            "\n",
            "Guess the 5 letter word: lemon\n",
            "You won\n",
            "The guess word is lemon\n"
          ]
        }
      ],
      "source": [
        "no_of_trail_remain = 0\n",
        "max_trail = 5\n",
        "\n",
        "correct_pos = []\n",
        "exist_letter = []\n",
        "incorrect_letters = []\n",
        "while True:\n",
        "  guess = input('Guess the 5 letter word: ').lower()\n",
        "\n",
        "\n",
        "  if len(guess) != len(guess_word) or not guess.isalpha():\n",
        "    print('You must write 5 letters word and dont use digits in guess word')\n",
        "    continue\n",
        "\n",
        "  if no_of_trail_remain == 2:\n",
        "    print(f'Hint: The word start with letter: {guess_word[0]}')\n",
        "\n",
        "  ind = 0\n",
        "  for i in guess:\n",
        "    if i in guess_word:\n",
        "      if i not in exist_letter:\n",
        "        exist_letter.append(i)\n",
        "    if i not in guess_word:\n",
        "      if i not in incorrect_letters:\n",
        "        incorrect_letters.append(i)\n",
        "    if i == guess_word[ind]:\n",
        "      if i not in correct_pos:\n",
        "        correct_pos.append(i)\n",
        "\n",
        "    ind += 1\n",
        "\n",
        "  no_of_trail_remain += 1\n",
        "  if no_of_trail_remain == max_trail:\n",
        "    print('Game over you loose')\n",
        "    print('The guess word is', guess_word)\n",
        "    break\n",
        "\n",
        "\n",
        "  if guess == guess_word:\n",
        "    print('You won')\n",
        "    print('The guess word is', guess_word)\n",
        "    break\n",
        "  else:\n",
        "    print(f'{guess} is not the guess number')\n",
        "  print(f'You guess {no_of_trail_remain} time and maximum chance is: {max_trail}')\n",
        "  print('Exist letters:',exist_letter)\n",
        "  print('incorrect letters:',incorrect_letters)\n",
        "  print('Correct position:',correct_pos)\n",
        "  print('\\n')"
      ]
    },
    {
      "cell_type": "code",
      "execution_count": null,
      "metadata": {
        "id": "FQJ3DPdjMO8-"
      },
      "outputs": [],
      "source": []
    }
  ],
  "metadata": {
    "colab": {
      "provenance": [],
      "authorship_tag": "ABX9TyPXWvrQUq7Yu5UNPdPVCOFS",
      "include_colab_link": true
    },
    "kernelspec": {
      "display_name": "Python 3",
      "name": "python3"
    },
    "language_info": {
      "name": "python"
    }
  },
  "nbformat": 4,
  "nbformat_minor": 0
}