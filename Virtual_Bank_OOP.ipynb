{
  "nbformat": 4,
  "nbformat_minor": 0,
  "metadata": {
    "colab": {
      "provenance": [],
      "authorship_tag": "ABX9TyOyCcieOHBcT1DdphzgPT0y",
      "include_colab_link": true
    },
    "kernelspec": {
      "name": "python3",
      "display_name": "Python 3"
    },
    "language_info": {
      "name": "python"
    }
  },
  "cells": [
    {
      "cell_type": "markdown",
      "metadata": {
        "id": "view-in-github",
        "colab_type": "text"
      },
      "source": [
        "<a href=\"https://colab.research.google.com/github/MuhammadMoaviaKhan/Python-Mini-Projects/blob/main/Virtual_Bank_OOP.ipynb\" target=\"_parent\"><img src=\"https://colab.research.google.com/assets/colab-badge.svg\" alt=\"Open In Colab\"/></a>"
      ]
    },
    {
      "cell_type": "code",
      "source": [
        "import math\n",
        "import random\n",
        "import re"
      ],
      "metadata": {
        "id": "dUdwkXK4Aex_"
      },
      "execution_count": 1,
      "outputs": []
    },
    {
      "cell_type": "code",
      "source": [
        "codes = ['1','2','3','4','5','6','7','8','9']"
      ],
      "metadata": {
        "id": "CldlW1OKUeCK"
      },
      "execution_count": 2,
      "outputs": []
    },
    {
      "cell_type": "code",
      "source": [
        "accounts = {}\n",
        "diposit_records = []\n",
        "diposit_data = {}\n",
        "account_money_record = {}\n",
        "withdrawal_records = []\n",
        "withdrawal_data = {}"
      ],
      "metadata": {
        "id": "5jusIp1IZbvT"
      },
      "execution_count": 3,
      "outputs": []
    },
    {
      "cell_type": "code",
      "source": [
        "class Bank:\n",
        "\n",
        "  def creat_account(self, full_name, acc_password, acc_email, birth_date, id_number, address, job_title):\n",
        "\n",
        "    while True:\n",
        "      self.number = random.choices(codes,k = 7)\n",
        "      self.acc_num = ''\n",
        "      for i in self.number:\n",
        "        self.acc_num = self.acc_num + i\n",
        "      if self.acc_num in accounts:\n",
        "        continue\n",
        "      else:\n",
        "        break\n",
        "\n",
        "    self.name = full_name\n",
        "    self.password = acc_password\n",
        "    self.email = acc_email\n",
        "    self.dob = birth_date\n",
        "    self.id_num = id_number\n",
        "    self.location = address\n",
        "    self.job = job_title\n",
        "    accounts[int(self.acc_num)] = {\n",
        "        'Name' : self.name,\n",
        "        'Passcode' : self.password,\n",
        "        'Email' : self.email,\n",
        "        'Date of Birth' : self.dob,\n",
        "        'Identity Number' : self.id_num,\n",
        "        'Client Address' : self.location,\n",
        "        'Profession' : self.job\n",
        "    }\n",
        "    print(f\"\\n Your account has been created, Account number is {self.acc_num}\")\n",
        "\n",
        "class DepositMoney(Bank):\n",
        "  def diposite_money(self, acc_num, ammount):\n",
        "\n",
        "    self.diposit_amount = ammount\n",
        "    self.account_num = acc_num\n",
        "\n",
        "    if self.account_num in accounts:\n",
        "      diposit_data[self.account_num] = {\n",
        "          'Deposit Money' : self.diposit_amount\n",
        "      }\n",
        "\n",
        "      print(f'Ammount Rs{self.diposit_amount} has been Diposited successfully in {self.account_num} account number.')\n",
        "\n",
        "      diposit_records.append({\n",
        "          'Account Number' : self.account_num,\n",
        "          'Deposit Money' : self.diposit_amount\n",
        "      })\n",
        "\n",
        "    else:\n",
        "      print(f'{self.account_num} account number is not exist')\n",
        "\n",
        "    if self.account_num in account_money_record:\n",
        "      account_money_record[self.account_num] = account_money_record[self.account_num] + self.diposit_amount\n",
        "    else :\n",
        "      account_money_record[self.account_num] = self.diposit_amount\n",
        "\n",
        "    diposit_data.clear()\n",
        "\n",
        "class WithDrawal(Bank):\n",
        "  def __init__(self, withdrawal_ammount , acc_num, password):\n",
        "    self.withdrawal = withdrawal_ammount\n",
        "    self.account_num = acc_num\n",
        "    self.passcode = password\n",
        "\n",
        "    if (self.account_num in accounts) and self.passcode == accounts[self.account_num]['Passcode']:\n",
        "      if self.withdrawal < account_money_record[self.account_num]:\n",
        "        account_money_record[self.account_num] -=  self.withdrawal\n",
        "        withdrawal_records.append({\n",
        "            'Account Number' : self.account_num,\n",
        "            'Withdrawal Ammount' : self.withdrawal\n",
        "        })\n",
        "        print(f'Ammount {self.withdrawal} has been withdrawal from {self.account_num} account')\n",
        "      else:\n",
        "        print('Not enough money')\n",
        "    else:\n",
        "      print('Account or Password may be incorrect')\n",
        "\n",
        "    if self.account_num in withdrawal_data:\n",
        "      withdrawal_data[self.account_num] += self.withdrawal\n",
        "    else:\n",
        "      withdrawal_data[self.account_num] = self.withdrawal"
      ],
      "metadata": {
        "id": "9bpAL8IsCUz8"
      },
      "execution_count": 4,
      "outputs": []
    },
    {
      "cell_type": "code",
      "source": [
        "data = Bank()"
      ],
      "metadata": {
        "id": "4W5h73dlpxvN"
      },
      "execution_count": 5,
      "outputs": []
    },
    {
      "cell_type": "code",
      "source": [
        "data.creat_account('nike', 'hgdddy', 'hello2132@gmail.com', '1999-08-31', '42201-91252461-1', 'Iceland', 'Weight Lifter')"
      ],
      "metadata": {
        "colab": {
          "base_uri": "https://localhost:8080/"
        },
        "id": "4Q-EZ-ThWIn0",
        "outputId": "7af9974c-e7f3-411f-f73f-4b31d75be5bf"
      },
      "execution_count": 6,
      "outputs": [
        {
          "output_type": "stream",
          "name": "stdout",
          "text": [
            "\n",
            " Your account has been created, Account number is 5337392\n"
          ]
        }
      ]
    },
    {
      "cell_type": "code",
      "source": [
        "accounts"
      ],
      "metadata": {
        "colab": {
          "base_uri": "https://localhost:8080/"
        },
        "id": "mro1ZJMaczum",
        "outputId": "a4d6c1e4-3328-4405-91e2-5ed596c515ab"
      },
      "execution_count": 7,
      "outputs": [
        {
          "output_type": "execute_result",
          "data": {
            "text/plain": [
              "{5337392: {'Name': 'nike',\n",
              "  'Passcode': 'hgdddy',\n",
              "  'Email': 'hello2132@gmail.com',\n",
              "  'Date of Birth': '1999-08-31',\n",
              "  'Identity Number': '42201-91252461-1',\n",
              "  'Client Address': 'Iceland',\n",
              "  'Profession': 'Weight Lifter'}}"
            ]
          },
          "metadata": {},
          "execution_count": 7
        }
      ]
    },
    {
      "cell_type": "code",
      "source": [
        "diposit = DepositMoney()"
      ],
      "metadata": {
        "id": "_wpxPej4f5W5"
      },
      "execution_count": 9,
      "outputs": []
    },
    {
      "cell_type": "code",
      "source": [
        "diposit.diposite_money(5337392, 15000)"
      ],
      "metadata": {
        "colab": {
          "base_uri": "https://localhost:8080/"
        },
        "id": "8mQ6-BFwL-3E",
        "outputId": "550f1b32-ec80-4055-e722-bb0930223f24"
      },
      "execution_count": 10,
      "outputs": [
        {
          "output_type": "stream",
          "name": "stdout",
          "text": [
            "Ammount Rs15000 has been Diposited successfully in 5337392 account number.\n"
          ]
        }
      ]
    },
    {
      "cell_type": "code",
      "source": [
        "diposit_records"
      ],
      "metadata": {
        "colab": {
          "base_uri": "https://localhost:8080/"
        },
        "id": "3QWwFH5PJRwY",
        "outputId": "f0e55be8-1a1e-474c-a563-1331d94c3dac"
      },
      "execution_count": 11,
      "outputs": [
        {
          "output_type": "execute_result",
          "data": {
            "text/plain": [
              "[{'Account Number': 5337392, 'Deposit Money': 15000}]"
            ]
          },
          "metadata": {},
          "execution_count": 11
        }
      ]
    },
    {
      "cell_type": "code",
      "source": [
        "diposit_data"
      ],
      "metadata": {
        "id": "ufNzdq0sj7JK",
        "colab": {
          "base_uri": "https://localhost:8080/"
        },
        "outputId": "47107945-f1c9-4bfc-8d23-230043a2cc7f"
      },
      "execution_count": 12,
      "outputs": [
        {
          "output_type": "execute_result",
          "data": {
            "text/plain": [
              "{}"
            ]
          },
          "metadata": {},
          "execution_count": 12
        }
      ]
    },
    {
      "cell_type": "code",
      "source": [
        "account_money_record"
      ],
      "metadata": {
        "colab": {
          "base_uri": "https://localhost:8080/"
        },
        "id": "JpDxC0aUMRQW",
        "outputId": "f4143500-a68b-4e24-a209-864049a4d0d1"
      },
      "execution_count": 13,
      "outputs": [
        {
          "output_type": "execute_result",
          "data": {
            "text/plain": [
              "{5337392: 15000}"
            ]
          },
          "metadata": {},
          "execution_count": 13
        }
      ]
    },
    {
      "cell_type": "code",
      "source": [
        "withdrow = WithDrawal(10000, 5337392, 'hgdddy')"
      ],
      "metadata": {
        "colab": {
          "base_uri": "https://localhost:8080/"
        },
        "id": "SdVggHChRZJ-",
        "outputId": "1bf1e78d-88d2-4ee0-8f41-a003b4166212"
      },
      "execution_count": 15,
      "outputs": [
        {
          "output_type": "stream",
          "name": "stdout",
          "text": [
            "Ammount 10000 has been withdrawal from 5337392 account\n"
          ]
        }
      ]
    },
    {
      "cell_type": "code",
      "source": [
        "withdrawal_records"
      ],
      "metadata": {
        "colab": {
          "base_uri": "https://localhost:8080/"
        },
        "id": "_effl8VBRl1-",
        "outputId": "9f73274f-b4b2-43dc-f783-ffd80d16a067"
      },
      "execution_count": 16,
      "outputs": [
        {
          "output_type": "execute_result",
          "data": {
            "text/plain": [
              "[{'Account Number': 5337392, 'Withdrawal Ammount': 10000}]"
            ]
          },
          "metadata": {},
          "execution_count": 16
        }
      ]
    },
    {
      "cell_type": "code",
      "source": [
        "withdrawal_data"
      ],
      "metadata": {
        "colab": {
          "base_uri": "https://localhost:8080/"
        },
        "id": "Rx4npC45S2D1",
        "outputId": "9957d416-e302-405f-8cd4-2cf75c39d6e1"
      },
      "execution_count": 18,
      "outputs": [
        {
          "output_type": "execute_result",
          "data": {
            "text/plain": [
              "{4743951: 10000, 5337392: 10000}"
            ]
          },
          "metadata": {},
          "execution_count": 18
        }
      ]
    },
    {
      "cell_type": "code",
      "source": [
        "def full_name():\n",
        "  pattern_1 = r'\\w+ \\w+ \\w'\n",
        "  pattern_2 = r'\\w+ \\w'\n",
        "  pattern_3 = r'\\w'\n",
        "  while True:\n",
        "    name = input('Enter your Full Name: ')\n",
        "\n",
        "    if re.search(pattern_1, name) or re.search(pattern_2, name):\n",
        "      full_name = name\n",
        "      break\n",
        "    else:\n",
        "      print('Enter your Full Name')\n",
        "      continue\n",
        "\n",
        "full_name()"
      ],
      "metadata": {
        "id": "HJyNYcRqIe7f",
        "colab": {
          "base_uri": "https://localhost:8080/"
        },
        "outputId": "231ebcb0-6ec5-4de8-c038-a52fd55057e0"
      },
      "execution_count": 20,
      "outputs": [
        {
          "name": "stdout",
          "output_type": "stream",
          "text": [
            "Enter your Full Name: moavia \n",
            "Enter your Full Name\n",
            "Enter your Full Name: moavia\n",
            "Enter your Full Name\n",
            "Enter your Full Name: Moavia\n",
            "Enter your Full Name\n",
            "Enter your Full Name: Moavia khan\n"
          ]
        }
      ]
    },
    {
      "cell_type": "code",
      "source": [
        "bank_name = 'Golden Gate Bank'\n",
        "\n",
        "while True:\n",
        "\n",
        "    print(f\"\\nWELCOME TO '{bank_name}'\\n\")\n",
        "    print('''Enter 1 for create account.\\nEnter 2 for deposit money.\\nEnter 3 for withdrawal money.\\nEnter 4 for withdrawal history.\\nEnter 5 for diposit history.\\nEnter 6 for exit\\n''')\n",
        "    res = ['1', '2', '3', '4', '5', '6', '7', '8', '9', '0']\n",
        "    while True:\n",
        "      response = input('Enter your choice: ')\n",
        "      if response in res:\n",
        "        response = int(response)\n",
        "        if 0<response<7:\n",
        "          break\n",
        "        else:\n",
        "          print('Option is not available')\n",
        "      else:\n",
        "        print('Option is not available')\n",
        "\n",
        "    if response == 1:\n",
        "      pattern_1 = r'\\w+ \\w+ \\w'\n",
        "      pattern_2 = r'\\w+ \\w'\n",
        "      pattern_3 = r'\\w'\n",
        "      full_name = ''\n",
        "      while True:\n",
        "        name = input('Enter your Full Name: ')\n",
        "\n",
        "        if re.search(pattern_1, name) or re.search(pattern_2, name):\n",
        "          full_name = name\n",
        "          break\n",
        "        else:\n",
        "          print('Please enter your Full Name correctly')\n",
        "          continue\n",
        "      passcode = input('Enter your passcode: ')\n",
        "      pattern_4 = r'[\\w.]+@\\w+[.]com'\n",
        "      while True:\n",
        "        email = input('Enter your email: ')\n",
        "        if re.search(pattern_4, email):\n",
        "          break\n",
        "        else:\n",
        "          print(f'{email} is not a valid email. Enter email properly')\n",
        "          continue\n",
        "\n",
        "      pattern_4 = r'\\d{4}-?\\d{2}-?\\d{2}'\n",
        "      while True:\n",
        "        Date_of_birth = input('Enter your Date Of Birth, YYYY-MM-DD: ')\n",
        "        if re.search(pattern_4, Date_of_birth):\n",
        "          break\n",
        "        else:\n",
        "          print(f'{Date_of_birth} is not in sequence. Enter like YYYY-MM-DD ')\n",
        "          continue\n",
        "      id_num = input('Enter your id number: ')\n",
        "      address = input('Enter your address: ')\n",
        "      job_title = input('Enter your Job Title: ')\n",
        "      bank = Bank()\n",
        "      bank.creat_account(full_name, passcode, email, Date_of_birth, id_num, address, job_title)\n",
        "\n",
        "    elif response == 2:\n",
        "      acc_num = int(input('Enter your account number: '))\n",
        "      diposit_amount = int(input('Enter deposit amount: '))\n",
        "      diposit = DepositMoney()\n",
        "      diposit.diposite_money(acc_num, diposit_amount)\n",
        "\n",
        "    elif response == 3:\n",
        "      withdrawal_amount = int(input('Enter withdrawal amount: '))\n",
        "      acc_num = int(input('Enter your account number: '))\n",
        "      passcode = input('Enter your passcode: ')\n",
        "      withdrow = WithDrawal(withdrawal_amount, acc_num, passcode)\n",
        "\n",
        "    elif response == 4:\n",
        "      while True:\n",
        "        withdrawal_history = int(input('Enter Account Number: '))\n",
        "        j = 1\n",
        "        total_ammount = 0\n",
        "        for i in withdrawal_records:\n",
        "          if i[\"Account Number\"] == withdrawal_history:\n",
        "            print(f\"({j}) Withdrawal Ammount : {i['Withdrawal Ammount']}\")\n",
        "            j += 1\n",
        "            total_ammount += i['Withdrawal Ammount']\n",
        "          else:\n",
        "            continue\n",
        "        print(f'Total Withdrawal : {total_ammount}')\n",
        "        break\n",
        "    elif response == 5:\n",
        "      while True:\n",
        "        diposit_history = int(input('Enter Account Number: '))\n",
        "        j = 1\n",
        "        total_ammount = 0\n",
        "        for i in diposit_records:\n",
        "          if i[\"Account Number\"] == diposit_history:\n",
        "            print(f\"({j}) Diposit Ammount : {i['Deposit Money']}\")\n",
        "            j += 1\n",
        "            total_ammount += i['Deposit Money']\n",
        "          else:\n",
        "            continue\n",
        "        print(f'Total Diposit : {total_ammount}')\n",
        "        break\n",
        "\n",
        "    elif response == 6:\n",
        "      print(f\"Thanks for visit '{bank_name}'\")\n",
        "      break\n",
        "\n"
      ],
      "metadata": {
        "colab": {
          "base_uri": "https://localhost:8080/"
        },
        "id": "i0H8OnD6S3Q1",
        "outputId": "14ddd1fe-5a2c-450d-eb61-4143f1931a50"
      },
      "execution_count": 21,
      "outputs": [
        {
          "output_type": "stream",
          "name": "stdout",
          "text": [
            "\n",
            "WELCOME TO 'Golden Gate Bank'\n",
            "\n",
            "Enter 1 for create account.\n",
            "Enter 2 for deposit money.\n",
            "Enter 3 for withdrawal money.\n",
            "Enter 4 for withdrawal history.\n",
            "Enter 5 for diposit history.\n",
            "Enter 6 for exit\n",
            "\n",
            "Enter your choice: 5\n",
            "Enter Account Number: 5337392\n",
            "(1) Diposit Ammount : 15000\n",
            "Total Diposit : 15000\n",
            "\n",
            "WELCOME TO 'Golden Gate Bank'\n",
            "\n",
            "Enter 1 for create account.\n",
            "Enter 2 for deposit money.\n",
            "Enter 3 for withdrawal money.\n",
            "Enter 4 for withdrawal history.\n",
            "Enter 5 for diposit history.\n",
            "Enter 6 for exit\n",
            "\n",
            "Enter your choice: 4\n",
            "Enter Account Number: 5337392\n",
            "(1) Withdrawal Ammount : 10000\n",
            "Total Withdrawal : 10000\n",
            "\n",
            "WELCOME TO 'Golden Gate Bank'\n",
            "\n",
            "Enter 1 for create account.\n",
            "Enter 2 for deposit money.\n",
            "Enter 3 for withdrawal money.\n",
            "Enter 4 for withdrawal history.\n",
            "Enter 5 for diposit history.\n",
            "Enter 6 for exit\n",
            "\n",
            "Enter your choice: 6\n",
            "Thanks for visit 'Golden Gate Bank'\n"
          ]
        }
      ]
    },
    {
      "cell_type": "code",
      "source": [
        "diposit_records"
      ],
      "metadata": {
        "colab": {
          "base_uri": "https://localhost:8080/"
        },
        "id": "C-iQJeIRSr4w",
        "outputId": "9b4fb956-2db8-48e7-c516-cc9c72792c7e"
      },
      "execution_count": null,
      "outputs": [
        {
          "output_type": "execute_result",
          "data": {
            "text/plain": [
              "[{'Account Number': 4873792, 'Deposit Money': 37000},\n",
              " {'Account Number': 4743951, 'Deposit Money': 120000},\n",
              " {'Account Number': 4873792, 'Deposit Money': 15000}]"
            ]
          },
          "metadata": {},
          "execution_count": 24
        }
      ]
    },
    {
      "cell_type": "code",
      "source": [
        "data = [{'Account Number': 6772216, 'Withdrawal Ammount': 20000},\n",
        " {'Account Number': 2547777, 'Withdrawal Ammount': 150000},\n",
        " {'Account Number': 6772216, 'Withdrawal Ammount': 5000}]"
      ],
      "metadata": {
        "id": "oA1U9o003l10"
      },
      "execution_count": null,
      "outputs": []
    },
    {
      "cell_type": "code",
      "source": [
        "j = 1\n",
        "for i in data:\n",
        "  if i[\"Account Number\"] == 6772216:\n",
        "    print(f\"({j}) Withdrawal Ammount : {i['Withdrawal Ammount']}\")\n",
        "    j += 1"
      ],
      "metadata": {
        "colab": {
          "base_uri": "https://localhost:8080/"
        },
        "id": "WlQuGvyvcGWv",
        "outputId": "3a6e08e9-6e40-4958-fdb1-4b8f66c2cb9e"
      },
      "execution_count": null,
      "outputs": [
        {
          "output_type": "stream",
          "name": "stdout",
          "text": [
            "(1) Withdrawal Ammount : 20000\n",
            "(2) Withdrawal Ammount : 5000\n"
          ]
        }
      ]
    },
    {
      "cell_type": "code",
      "source": [],
      "metadata": {
        "id": "Nxu-n4M0ckbu"
      },
      "execution_count": null,
      "outputs": []
    }
  ]
}